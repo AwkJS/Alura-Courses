{
 "cells": [
  {
   "cell_type": "code",
   "execution_count": 1,
   "id": "0b7de56b",
   "metadata": {},
   "outputs": [],
   "source": [
    "import pandas as pd"
   ]
  },
  {
   "cell_type": "code",
   "execution_count": 2,
   "id": "5c29fcc9",
   "metadata": {},
   "outputs": [],
   "source": [
    "s = pd.Series(list('asdaesasda'))"
   ]
  },
  {
   "cell_type": "code",
   "execution_count": 3,
   "id": "a143ff52",
   "metadata": {},
   "outputs": [
    {
     "data": {
      "text/plain": [
       "0    a\n",
       "1    s\n",
       "2    d\n",
       "3    a\n",
       "4    e\n",
       "5    s\n",
       "6    a\n",
       "7    s\n",
       "8    d\n",
       "9    a\n",
       "dtype: object"
      ]
     },
     "execution_count": 3,
     "metadata": {},
     "output_type": "execute_result"
    }
   ],
   "source": [
    "s"
   ]
  },
  {
   "cell_type": "code",
   "execution_count": 4,
   "id": "0d5d116c",
   "metadata": {},
   "outputs": [
    {
     "data": {
      "text/plain": [
       "array(['a', 's', 'd', 'e'], dtype=object)"
      ]
     },
     "execution_count": 4,
     "metadata": {},
     "output_type": "execute_result"
    }
   ],
   "source": [
    "s.unique()"
   ]
  },
  {
   "cell_type": "code",
   "execution_count": 5,
   "id": "3e833d35",
   "metadata": {},
   "outputs": [
    {
     "data": {
      "text/plain": [
       "a    4\n",
       "s    3\n",
       "d    2\n",
       "e    1\n",
       "dtype: int64"
      ]
     },
     "execution_count": 5,
     "metadata": {},
     "output_type": "execute_result"
    }
   ],
   "source": [
    "s.value_counts()"
   ]
  },
  {
   "cell_type": "code",
   "execution_count": 6,
   "id": "9e459b11",
   "metadata": {},
   "outputs": [],
   "source": [
    "dados = pd.read_csv('aluguel.csv', sep = ';')"
   ]
  },
  {
   "cell_type": "code",
   "execution_count": 7,
   "id": "1db0ccc5",
   "metadata": {},
   "outputs": [
    {
     "data": {
      "text/plain": [
       "array(['Quitinete', 'Casa', 'Conjunto Comercial/Sala', 'Apartamento',\n",
       "       'Casa de Condomínio', 'Prédio Inteiro', 'Flat', 'Loja/Salão',\n",
       "       'Galpão/Depósito/Armazém', 'Casa Comercial', 'Casa de Vila',\n",
       "       'Terreno Padrão', 'Box/Garagem', 'Loft',\n",
       "       'Loja Shopping/ Ct Comercial', 'Chácara', 'Loteamento/Condomínio',\n",
       "       'Sítio', 'Pousada/Chalé', 'Studio', 'Hotel', 'Indústria'],\n",
       "      dtype=object)"
      ]
     },
     "execution_count": 7,
     "metadata": {},
     "output_type": "execute_result"
    }
   ],
   "source": [
    "dados.Tipo.unique()"
   ]
  },
  {
   "cell_type": "code",
   "execution_count": 8,
   "id": "a132f743",
   "metadata": {},
   "outputs": [
    {
     "data": {
      "text/plain": [
       "Apartamento                    19532\n",
       "Conjunto Comercial/Sala         6815\n",
       "Loja/Salão                      1426\n",
       "Casa de Condomínio               996\n",
       "Casa                             967\n",
       "Quitinete                        836\n",
       "Galpão/Depósito/Armazém          623\n",
       "Flat                             476\n",
       "Prédio Inteiro                   301\n",
       "Casa Comercial                   265\n",
       "Casa de Vila                     249\n",
       "Loja Shopping/ Ct Comercial      247\n",
       "Box/Garagem                       82\n",
       "Terreno Padrão                    70\n",
       "Loft                              51\n",
       "Sítio                             10\n",
       "Loteamento/Condomínio              5\n",
       "Studio                             4\n",
       "Hotel                              2\n",
       "Chácara                            1\n",
       "Pousada/Chalé                      1\n",
       "Indústria                          1\n",
       "Name: Tipo, dtype: int64"
      ]
     },
     "execution_count": 8,
     "metadata": {},
     "output_type": "execute_result"
    }
   ],
   "source": [
    "dados.Tipo.value_counts()"
   ]
  }
 ],
 "metadata": {
  "kernelspec": {
   "display_name": "Python 3 (ipykernel)",
   "language": "python",
   "name": "python3"
  },
  "language_info": {
   "codemirror_mode": {
    "name": "ipython",
    "version": 3
   },
   "file_extension": ".py",
   "mimetype": "text/x-python",
   "name": "python",
   "nbconvert_exporter": "python",
   "pygments_lexer": "ipython3",
   "version": "3.9.7"
  }
 },
 "nbformat": 4,
 "nbformat_minor": 5
}
