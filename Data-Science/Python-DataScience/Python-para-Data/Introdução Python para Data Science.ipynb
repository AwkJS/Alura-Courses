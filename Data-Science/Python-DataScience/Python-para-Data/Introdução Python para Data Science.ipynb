{
 "cells": [
  {
   "cell_type": "markdown",
   "id": "77f8c997",
   "metadata": {},
   "source": [
    "## LÓGICA"
   ]
  },
  {
   "cell_type": "code",
   "execution_count": 1,
   "id": "7d5992c7",
   "metadata": {},
   "outputs": [
    {
     "data": {
      "text/plain": [
       "2"
      ]
     },
     "execution_count": 1,
     "metadata": {},
     "output_type": "execute_result"
    }
   ],
   "source": [
    "1+1"
   ]
  },
  {
   "cell_type": "code",
   "execution_count": 2,
   "id": "522e55b5",
   "metadata": {},
   "outputs": [],
   "source": [
    "nome = \"Gustavo\""
   ]
  },
  {
   "cell_type": "code",
   "execution_count": 3,
   "id": "29fb52c3",
   "metadata": {},
   "outputs": [
    {
     "data": {
      "text/plain": [
       "'Gustavo'"
      ]
     },
     "execution_count": 3,
     "metadata": {},
     "output_type": "execute_result"
    }
   ],
   "source": [
    "nome"
   ]
  },
  {
   "cell_type": "code",
   "execution_count": 4,
   "id": "4bb350fb",
   "metadata": {},
   "outputs": [],
   "source": [
    "idade = 21"
   ]
  },
  {
   "cell_type": "code",
   "execution_count": 5,
   "id": "31365815",
   "metadata": {},
   "outputs": [
    {
     "data": {
      "text/plain": [
       "21"
      ]
     },
     "execution_count": 5,
     "metadata": {},
     "output_type": "execute_result"
    }
   ],
   "source": [
    "idade"
   ]
  },
  {
   "cell_type": "code",
   "execution_count": 6,
   "id": "9953fb6f",
   "metadata": {},
   "outputs": [
    {
     "name": "stdout",
     "output_type": "stream",
     "text": [
      "O nome é Gustavo e a idade é 21 \n"
     ]
    }
   ],
   "source": [
    "print(f\"O nome é {nome} e a idade é {idade} \")"
   ]
  },
  {
   "cell_type": "markdown",
   "id": "03c46163",
   "metadata": {},
   "source": [
    "## PRIMEIRA FUNÇÃO"
   ]
  },
  {
   "cell_type": "code",
   "execution_count": 7,
   "id": "f190b87e",
   "metadata": {},
   "outputs": [],
   "source": [
    "def saudacao():\n",
    "    nome = input('Qual o seu nome')\n",
    "    print(f'Olá {nome}')"
   ]
  },
  {
   "cell_type": "code",
   "execution_count": 8,
   "id": "f42b57d8",
   "metadata": {},
   "outputs": [
    {
     "name": "stdout",
     "output_type": "stream",
     "text": [
      "Qual o seu nomeGustavo\n",
      "Olá Gustavo\n"
     ]
    }
   ],
   "source": [
    "saudacao()"
   ]
  },
  {
   "cell_type": "code",
   "execution_count": 9,
   "id": "10234535",
   "metadata": {},
   "outputs": [],
   "source": [
    "nome = 'Awk'"
   ]
  },
  {
   "cell_type": "code",
   "execution_count": 10,
   "id": "c523e416",
   "metadata": {},
   "outputs": [],
   "source": [
    "def saudacao_com_parametro(nome_da_pessoa):\n",
    "    print(f'Olá {nome_da_pessoa}')"
   ]
  },
  {
   "cell_type": "code",
   "execution_count": 11,
   "id": "d2a61429",
   "metadata": {},
   "outputs": [
    {
     "name": "stdout",
     "output_type": "stream",
     "text": [
      "Olá Awk\n"
     ]
    }
   ],
   "source": [
    "saudacao_com_parametro(nome)"
   ]
  },
  {
   "cell_type": "markdown",
   "id": "ae461a1f",
   "metadata": {},
   "source": [
    "## CONDICIONAL"
   ]
  },
  {
   "cell_type": "code",
   "execution_count": 12,
   "id": "e515714d",
   "metadata": {},
   "outputs": [],
   "source": [
    "idade = 17"
   ]
  },
  {
   "cell_type": "code",
   "execution_count": 13,
   "id": "d77eff70",
   "metadata": {},
   "outputs": [],
   "source": [
    "def verifica_se_pode_dirigir(idade_da_pessoa):\n",
    "    if idade >= 18:\n",
    "        print('Você pode dirigir!')\n",
    "    else:\n",
    "        print('Vai ter que esperar mais um pouco')"
   ]
  },
  {
   "cell_type": "code",
   "execution_count": 14,
   "id": "67408eb4",
   "metadata": {},
   "outputs": [
    {
     "name": "stdout",
     "output_type": "stream",
     "text": [
      "Vai ter que esperar mais um pouco\n"
     ]
    }
   ],
   "source": [
    "verifica_se_pode_dirigir(idade)"
   ]
  },
  {
   "cell_type": "code",
   "execution_count": 15,
   "id": "ed2c4ca6",
   "metadata": {},
   "outputs": [],
   "source": [
    "def verifica_se_pode_dirigir_sem_parametro():\n",
    "    idade = input('Qual a sua idade?')\n",
    "    idade = int(idade)\n",
    "    if idade >= 18:\n",
    "        print('Você pode dirigir!')\n",
    "    else:\n",
    "        print('Vai ter que esperar mais um pouco')"
   ]
  },
  {
   "cell_type": "code",
   "execution_count": 16,
   "id": "6f86468a",
   "metadata": {},
   "outputs": [
    {
     "name": "stdout",
     "output_type": "stream",
     "text": [
      "Qual a sua idade?17\n",
      "Vai ter que esperar mais um pouco\n"
     ]
    }
   ],
   "source": [
    "verifica_se_pode_dirigir_sem_parametro()"
   ]
  },
  {
   "cell_type": "markdown",
   "id": "68264a3d",
   "metadata": {},
   "source": [
    "## LISTA"
   ]
  },
  {
   "cell_type": "code",
   "execution_count": 17,
   "id": "c8f2f518",
   "metadata": {},
   "outputs": [
    {
     "data": {
      "text/plain": [
       "list"
      ]
     },
     "execution_count": 17,
     "metadata": {},
     "output_type": "execute_result"
    }
   ],
   "source": [
    "idades = [17,18,19,20]\n",
    "type(idades)"
   ]
  },
  {
   "cell_type": "code",
   "execution_count": 18,
   "id": "9f6d2e3a",
   "metadata": {},
   "outputs": [
    {
     "data": {
      "text/plain": [
       "18"
      ]
     },
     "execution_count": 18,
     "metadata": {},
     "output_type": "execute_result"
    }
   ],
   "source": [
    "idades[1]"
   ]
  },
  {
   "cell_type": "code",
   "execution_count": 19,
   "id": "8d1e1c38",
   "metadata": {},
   "outputs": [
    {
     "data": {
      "text/plain": [
       "[17, 18, 19]"
      ]
     },
     "execution_count": 19,
     "metadata": {},
     "output_type": "execute_result"
    }
   ],
   "source": [
    "idades[0:3]"
   ]
  },
  {
   "cell_type": "code",
   "execution_count": 20,
   "id": "c06fc4b4",
   "metadata": {},
   "outputs": [
    {
     "data": {
      "text/plain": [
       "[18, 19, 20]"
      ]
     },
     "execution_count": 20,
     "metadata": {},
     "output_type": "execute_result"
    }
   ],
   "source": [
    "idades[1:]"
   ]
  },
  {
   "cell_type": "code",
   "execution_count": 21,
   "id": "52cc4250",
   "metadata": {},
   "outputs": [
    {
     "data": {
      "text/plain": [
       "20"
      ]
     },
     "execution_count": 21,
     "metadata": {},
     "output_type": "execute_result"
    }
   ],
   "source": [
    "idades[-1]"
   ]
  },
  {
   "cell_type": "markdown",
   "id": "4eb0772b",
   "metadata": {},
   "source": [
    "## LAÇOS E LOOPS"
   ]
  },
  {
   "cell_type": "code",
   "execution_count": 22,
   "id": "684af667",
   "metadata": {},
   "outputs": [],
   "source": [
    "def verifica_se_pode_dirigir(idade_da_pessoa):\n",
    "    if idade >= 18:\n",
    "        print(f' {idade} Anos, Você pode dirigir!')\n",
    "    else:\n",
    "        print(f' {idade} Anos, Vai ter que esperar mais um pouco')"
   ]
  },
  {
   "cell_type": "code",
   "execution_count": 23,
   "id": "b3e0bd0a",
   "metadata": {},
   "outputs": [
    {
     "name": "stdout",
     "output_type": "stream",
     "text": [
      " 17 Anos, Vai ter que esperar mais um pouco\n",
      " 18 Anos, Você pode dirigir!\n",
      " 19 Anos, Você pode dirigir!\n",
      " 20 Anos, Você pode dirigir!\n"
     ]
    }
   ],
   "source": [
    "for idade in idades:\n",
    "    verifica_se_pode_dirigir(idades)"
   ]
  },
  {
   "cell_type": "markdown",
   "id": "1f7441a2",
   "metadata": {},
   "source": [
    "## Booleano"
   ]
  },
  {
   "cell_type": "code",
   "execution_count": 24,
   "id": "33e307b9",
   "metadata": {},
   "outputs": [],
   "source": [
    "permissoes = []\n",
    "idades = [20,14,40]"
   ]
  },
  {
   "cell_type": "code",
   "execution_count": 25,
   "id": "1c7e621e",
   "metadata": {},
   "outputs": [],
   "source": [
    "def verifica_se_pode_dirigir(idade_da_pessoa, permissoes):\n",
    "    for idade in idades:\n",
    "        if idade >= 18:\n",
    "            permissoes.append(True)\n",
    "        else:\n",
    "            permissoes.append(False)"
   ]
  },
  {
   "cell_type": "code",
   "execution_count": 26,
   "id": "d20af3a2",
   "metadata": {},
   "outputs": [],
   "source": [
    "verifica_se_pode_dirigir(idades, permissoes)"
   ]
  },
  {
   "cell_type": "code",
   "execution_count": 27,
   "id": "72301c97",
   "metadata": {},
   "outputs": [
    {
     "name": "stdout",
     "output_type": "stream",
     "text": [
      "[True, False, True]\n"
     ]
    }
   ],
   "source": [
    "print(permissoes)"
   ]
  },
  {
   "cell_type": "code",
   "execution_count": 28,
   "id": "71acb1db",
   "metadata": {},
   "outputs": [
    {
     "name": "stdout",
     "output_type": "stream",
     "text": [
      "Pode dirigir sim\n",
      "Pode dirigir não\n",
      "Pode dirigir sim\n"
     ]
    }
   ],
   "source": [
    "for permissao in permissoes:\n",
    "    if permissao == True:\n",
    "        print('Pode dirigir sim')\n",
    "    else:\n",
    "        print('Pode dirigir não')"
   ]
  },
  {
   "cell_type": "markdown",
   "id": "49a9ec07",
   "metadata": {},
   "source": [
    "## TIPOS EM UMA LISTA"
   ]
  },
  {
   "cell_type": "code",
   "execution_count": 29,
   "id": "3756ec07",
   "metadata": {},
   "outputs": [],
   "source": [
    "lista = ['Guilherme', 21, True, '22']"
   ]
  },
  {
   "cell_type": "code",
   "execution_count": 30,
   "id": "736f14f0",
   "metadata": {},
   "outputs": [
    {
     "name": "stdout",
     "output_type": "stream",
     "text": [
      "Guilherme - <class 'str'>\n",
      "21 - <class 'int'>\n",
      "True - <class 'bool'>\n",
      "22 - <class 'str'>\n"
     ]
    }
   ],
   "source": [
    "for elemento in lista:\n",
    "    print(f'{elemento} - {type(elemento)}')"
   ]
  },
  {
   "cell_type": "markdown",
   "id": "83119dde",
   "metadata": {},
   "source": [
    "## IMPORT"
   ]
  },
  {
   "cell_type": "code",
   "execution_count": 31,
   "id": "8707a09c",
   "metadata": {},
   "outputs": [],
   "source": [
    "from random import randrange"
   ]
  },
  {
   "cell_type": "code",
   "execution_count": 32,
   "id": "7f719c38",
   "metadata": {},
   "outputs": [
    {
     "data": {
      "text/plain": [
       "3"
      ]
     },
     "execution_count": 32,
     "metadata": {},
     "output_type": "execute_result"
    }
   ],
   "source": [
    "randrange(0,11)"
   ]
  },
  {
   "cell_type": "code",
   "execution_count": 33,
   "id": "1906b129",
   "metadata": {},
   "outputs": [],
   "source": [
    "notas_fisica = []"
   ]
  },
  {
   "cell_type": "code",
   "execution_count": 34,
   "id": "c50a802c",
   "metadata": {},
   "outputs": [
    {
     "data": {
      "text/plain": [
       "[1, 0, 2, 10, 0, 8, 8, 4]"
      ]
     },
     "execution_count": 34,
     "metadata": {},
     "output_type": "execute_result"
    }
   ],
   "source": [
    "for notas in range(8):\n",
    "    notas_fisica.append(randrange(0,11));\n",
    "\n",
    "notas_fisica"
   ]
  },
  {
   "cell_type": "code",
   "execution_count": 35,
   "id": "429c7a3f",
   "metadata": {},
   "outputs": [
    {
     "data": {
      "text/plain": [
       "8"
      ]
     },
     "execution_count": 35,
     "metadata": {},
     "output_type": "execute_result"
    }
   ],
   "source": [
    "len(notas_fisica)"
   ]
  },
  {
   "cell_type": "markdown",
   "id": "5ea10033",
   "metadata": {},
   "source": [
    "## MATPLOTLIB"
   ]
  },
  {
   "cell_type": "code",
   "execution_count": 36,
   "id": "0893df6e",
   "metadata": {},
   "outputs": [],
   "source": [
    "import matplotlib.pyplot as plt"
   ]
  },
  {
   "cell_type": "code",
   "execution_count": 37,
   "id": "b347ff60",
   "metadata": {},
   "outputs": [
    {
     "data": {
      "text/plain": [
       "[1, 2, 3, 4, 5, 6, 7, 8]"
      ]
     },
     "execution_count": 37,
     "metadata": {},
     "output_type": "execute_result"
    }
   ],
   "source": [
    "x = list(range(1,9))\n",
    "x"
   ]
  },
  {
   "cell_type": "code",
   "execution_count": 38,
   "id": "c17a01ee",
   "metadata": {},
   "outputs": [
    {
     "data": {
      "text/plain": [
       "[1, 0, 2, 10, 0, 8, 8, 4]"
      ]
     },
     "execution_count": 38,
     "metadata": {},
     "output_type": "execute_result"
    }
   ],
   "source": [
    "y = notas_fisica\n",
    "y"
   ]
  },
  {
   "cell_type": "code",
   "execution_count": 44,
   "id": "47a6573e",
   "metadata": {},
   "outputs": [
    {
     "data": {
      "image/png": "[encoded data removed]",
      "text/plain": [
       "<Figure size 432x288 with 1 Axes>"
      ]
     },
     "metadata": {
      "needs_background": "light"
     },
     "output_type": "display_data"
    }
   ],
   "source": [
    "plt.plot(x,y, marker='o')\n",
    "plt.title('Notas de Fisica')\n",
    "plt.xlabel('Provas')\n",
    "plt.ylabel('Notas')\n",
    "plt.show()"
   ]
  }
 ],
 "metadata": {
  "kernelspec": {
   "display_name": "Python 3 (ipykernel)",
   "language": "python",
   "name": "python3"
  },
  "language_info": {
   "codemirror_mode": {
    "name": "ipython",
    "version": 3
   },
   "file_extension": ".py",
   "mimetype": "text/x-python",
   "name": "python",
   "nbconvert_exporter": "python",
   "pygments_lexer": "ipython3",
   "version": "3.10.4"
  }
 },
 "nbformat": 4,
 "nbformat_minor": 5
}
